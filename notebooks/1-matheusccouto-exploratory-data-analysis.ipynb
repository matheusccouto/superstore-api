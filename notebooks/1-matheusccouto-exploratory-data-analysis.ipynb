{
 "metadata": {
  "language_info": {
   "codemirror_mode": {
    "name": "ipython",
    "version": 3
   },
   "file_extension": ".py",
   "mimetype": "text/x-python",
   "name": "python",
   "nbconvert_exporter": "python",
   "pygments_lexer": "ipython3",
   "version": "3.8.5"
  },
  "orig_nbformat": 2,
  "kernelspec": {
   "name": "pythonjvsc74a57bd09d78cd5ee5c2f1782a316b631146759b36481f57f21677753077a70e36faece2",
   "display_name": "Python 3.8.5  ('venv': venv)"
  },
  "metadata": {
   "interpreter": {
    "hash": "9d78cd5ee5c2f1782a316b631146759b36481f57f21677753077a70e36faece2"
   }
  }
 },
 "nbformat": 4,
 "nbformat_minor": 2,
 "cells": [
  {
   "source": [
    "# Exploratory Data Analysis"
   ],
   "cell_type": "markdown",
   "metadata": {}
  },
  {
   "source": [
    "## Imports"
   ],
   "cell_type": "markdown",
   "metadata": {}
  },
  {
   "cell_type": "code",
   "execution_count": 1,
   "metadata": {},
   "outputs": [],
   "source": [
    "import pandas as pd"
   ]
  },
  {
   "source": [
    "## Default variables"
   ],
   "cell_type": "markdown",
   "metadata": {}
  },
  {
   "cell_type": "code",
   "execution_count": 2,
   "metadata": {},
   "outputs": [],
   "source": [
    "ROOT_FOLDER = os.path.split(os.getcwd()[:-1])[0]\n",
    "RAW_DATA_FOLDER = os.path.join(ROOT_FOLDER, \"data\", \"raw\")\n",
    "PROCESSED_DATA_FOLDER = os.path.join(ROOT_FOLDER, \"data\", \"processed\")"
   ]
  },
  {
   "source": [
    "## Load data"
   ],
   "cell_type": "markdown",
   "metadata": {}
  },
  {
   "cell_type": "code",
   "execution_count": 3,
   "metadata": {},
   "outputs": [
    {
     "output_type": "execute_result",
     "data": {
      "text/plain": [
       "              Order ID Order Date Ship Date       Ship Mode Customer ID  \\\n",
       "Row ID                                                                    \n",
       "1       CA-2016-152156   08-11-16  11-11-16    Second Class    CG-12520   \n",
       "2       CA-2016-152156   08-11-16  11-11-16    Second Class    CG-12520   \n",
       "3       CA-2016-138688   12-06-16  16-06-16    Second Class    DV-13045   \n",
       "4       US-2015-108966   11-10-15  18-10-15  Standard Class    SO-20335   \n",
       "5       US-2015-108966   11-10-15  18-10-15  Standard Class    SO-20335   \n",
       "\n",
       "          Customer Name    Segment        Country             City  \\\n",
       "Row ID                                                               \n",
       "1           Claire Gute   Consumer  United States        Henderson   \n",
       "2           Claire Gute   Consumer  United States        Henderson   \n",
       "3       Darrin Van Huff  Corporate  United States      Los Angeles   \n",
       "4        Sean O'Donnell   Consumer  United States  Fort Lauderdale   \n",
       "5        Sean O'Donnell   Consumer  United States  Fort Lauderdale   \n",
       "\n",
       "             State  Postal Code Region       Product ID         Category  \\\n",
       "Row ID                                                                     \n",
       "1         Kentucky        42420  South  FUR-BO-10001798        Furniture   \n",
       "2         Kentucky        42420  South  FUR-CH-10000454        Furniture   \n",
       "3       California        90036   West  OFF-LA-10000240  Office Supplies   \n",
       "4          Florida        33311  South  FUR-TA-10000577        Furniture   \n",
       "5          Florida        33311  South  OFF-ST-10000760  Office Supplies   \n",
       "\n",
       "       Sub-Category                                       Product Name  \\\n",
       "Row ID                                                                   \n",
       "1         Bookcases                  Bush Somerset Collection Bookcase   \n",
       "2            Chairs  Hon Deluxe Fabric Upholstered Stacking Chairs,...   \n",
       "3            Labels  Self-Adhesive Address Labels for Typewriters b...   \n",
       "4            Tables      Bretford CR4500 Series Slim Rectangular Table   \n",
       "5           Storage                     Eldon Fold 'N Roll Cart System   \n",
       "\n",
       "           Sales  Quantity  Discount    Profit  \n",
       "Row ID                                          \n",
       "1       261.9600         2      0.00   41.9136  \n",
       "2       731.9400         3      0.00  219.5820  \n",
       "3        14.6200         2      0.00    6.8714  \n",
       "4       957.5775         5      0.45 -383.0310  \n",
       "5        22.3680         2      0.20    2.5164  "
      ],
      "text/html": "<div>\n<style scoped>\n    .dataframe tbody tr th:only-of-type {\n        vertical-align: middle;\n    }\n\n    .dataframe tbody tr th {\n        vertical-align: top;\n    }\n\n    .dataframe thead th {\n        text-align: right;\n    }\n</style>\n<table border=\"1\" class=\"dataframe\">\n  <thead>\n    <tr style=\"text-align: right;\">\n      <th></th>\n      <th>Order ID</th>\n      <th>Order Date</th>\n      <th>Ship Date</th>\n      <th>Ship Mode</th>\n      <th>Customer ID</th>\n      <th>Customer Name</th>\n      <th>Segment</th>\n      <th>Country</th>\n      <th>City</th>\n      <th>State</th>\n      <th>Postal Code</th>\n      <th>Region</th>\n      <th>Product ID</th>\n      <th>Category</th>\n      <th>Sub-Category</th>\n      <th>Product Name</th>\n      <th>Sales</th>\n      <th>Quantity</th>\n      <th>Discount</th>\n      <th>Profit</th>\n    </tr>\n    <tr>\n      <th>Row ID</th>\n      <th></th>\n      <th></th>\n      <th></th>\n      <th></th>\n      <th></th>\n      <th></th>\n      <th></th>\n      <th></th>\n      <th></th>\n      <th></th>\n      <th></th>\n      <th></th>\n      <th></th>\n      <th></th>\n      <th></th>\n      <th></th>\n      <th></th>\n      <th></th>\n      <th></th>\n      <th></th>\n    </tr>\n  </thead>\n  <tbody>\n    <tr>\n      <th>1</th>\n      <td>CA-2016-152156</td>\n      <td>08-11-16</td>\n      <td>11-11-16</td>\n      <td>Second Class</td>\n      <td>CG-12520</td>\n      <td>Claire Gute</td>\n      <td>Consumer</td>\n      <td>United States</td>\n      <td>Henderson</td>\n      <td>Kentucky</td>\n      <td>42420</td>\n      <td>South</td>\n      <td>FUR-BO-10001798</td>\n      <td>Furniture</td>\n      <td>Bookcases</td>\n      <td>Bush Somerset Collection Bookcase</td>\n      <td>261.9600</td>\n      <td>2</td>\n      <td>0.00</td>\n      <td>41.9136</td>\n    </tr>\n    <tr>\n      <th>2</th>\n      <td>CA-2016-152156</td>\n      <td>08-11-16</td>\n      <td>11-11-16</td>\n      <td>Second Class</td>\n      <td>CG-12520</td>\n      <td>Claire Gute</td>\n      <td>Consumer</td>\n      <td>United States</td>\n      <td>Henderson</td>\n      <td>Kentucky</td>\n      <td>42420</td>\n      <td>South</td>\n      <td>FUR-CH-10000454</td>\n      <td>Furniture</td>\n      <td>Chairs</td>\n      <td>Hon Deluxe Fabric Upholstered Stacking Chairs,...</td>\n      <td>731.9400</td>\n      <td>3</td>\n      <td>0.00</td>\n      <td>219.5820</td>\n    </tr>\n    <tr>\n      <th>3</th>\n      <td>CA-2016-138688</td>\n      <td>12-06-16</td>\n      <td>16-06-16</td>\n      <td>Second Class</td>\n      <td>DV-13045</td>\n      <td>Darrin Van Huff</td>\n      <td>Corporate</td>\n      <td>United States</td>\n      <td>Los Angeles</td>\n      <td>California</td>\n      <td>90036</td>\n      <td>West</td>\n      <td>OFF-LA-10000240</td>\n      <td>Office Supplies</td>\n      <td>Labels</td>\n      <td>Self-Adhesive Address Labels for Typewriters b...</td>\n      <td>14.6200</td>\n      <td>2</td>\n      <td>0.00</td>\n      <td>6.8714</td>\n    </tr>\n    <tr>\n      <th>4</th>\n      <td>US-2015-108966</td>\n      <td>11-10-15</td>\n      <td>18-10-15</td>\n      <td>Standard Class</td>\n      <td>SO-20335</td>\n      <td>Sean O'Donnell</td>\n      <td>Consumer</td>\n      <td>United States</td>\n      <td>Fort Lauderdale</td>\n      <td>Florida</td>\n      <td>33311</td>\n      <td>South</td>\n      <td>FUR-TA-10000577</td>\n      <td>Furniture</td>\n      <td>Tables</td>\n      <td>Bretford CR4500 Series Slim Rectangular Table</td>\n      <td>957.5775</td>\n      <td>5</td>\n      <td>0.45</td>\n      <td>-383.0310</td>\n    </tr>\n    <tr>\n      <th>5</th>\n      <td>US-2015-108966</td>\n      <td>11-10-15</td>\n      <td>18-10-15</td>\n      <td>Standard Class</td>\n      <td>SO-20335</td>\n      <td>Sean O'Donnell</td>\n      <td>Consumer</td>\n      <td>United States</td>\n      <td>Fort Lauderdale</td>\n      <td>Florida</td>\n      <td>33311</td>\n      <td>South</td>\n      <td>OFF-ST-10000760</td>\n      <td>Office Supplies</td>\n      <td>Storage</td>\n      <td>Eldon Fold 'N Roll Cart System</td>\n      <td>22.3680</td>\n      <td>2</td>\n      <td>0.20</td>\n      <td>2.5164</td>\n    </tr>\n  </tbody>\n</table>\n</div>"
     },
     "metadata": {},
     "execution_count": 3
    }
   ],
   "source": [
    "DATASET_FILE_NAME = \"dataset.csv\"\n",
    "\n",
    "data = pd.read_csv(os.path.join(RAW_DATA_FOLDER, DATASET_FILE_NAME), index_col=\"Row ID\")\n",
    "data.head()"
   ]
  }
 ]
}